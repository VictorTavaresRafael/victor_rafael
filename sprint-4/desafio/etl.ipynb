{
 "cells": [
  {
   "cell_type": "markdown",
   "id": "35ff980f",
   "metadata": {},
   "source": [
    "# Etapa 1: Extração, Transformação e Limpeza (ETL) dos Dados de Migração\n",
    "\n",
    "**Objetivo:** Carregar os dados brutos do arquivo `STI_MOVIMENTO_2025_06.csv`, realizar a limpeza e a transformação necessárias, e salvar um arquivo limpo para a próxima etapa de análise."
   ]
  },
  {
   "cell_type": "code",
   "execution_count": 8,
   "id": "90ed272b",
   "metadata": {},
   "outputs": [
    {
     "name": "stdout",
     "output_type": "stream",
     "text": [
      "Biblioteca Pandas importada com sucesso.\n"
     ]
    }
   ],
   "source": [
    "# Importação da Biblioteca (Código)\n",
    "import pandas as pd\n",
    "import os\n",
    "\n",
    "print(\"Biblioteca Pandas importada com sucesso.\")"
   ]
  },
  {
   "cell_type": "code",
   "execution_count": 9,
   "id": "ee757b2a",
   "metadata": {},
   "outputs": [
    {
     "name": "stdout",
     "output_type": "stream",
     "text": [
      "Dados brutos carregados com sucesso!\n"
     ]
    }
   ],
   "source": [
    "# Carregamento dos Dados Brutos (Código)\n",
    "# Define o caminho para o arquivo de dados brutos\n",
    "caminho_dados_brutos = 'dados/STI_MOVIMENTO_2025_06.csv'\n",
    "\n",
    "# Carrega os dados, especificando o separador e a codificação\n",
    "try:\n",
    "    df_bruto = pd.read_csv(caminho_dados_brutos, sep=';', encoding='latin-1')\n",
    "    print(\"Dados brutos carregados com sucesso!\")\n",
    "except FileNotFoundError:\n",
    "    print(f\"Erro: Arquivo não encontrado no caminho '{caminho_dados_brutos}'\")"
   ]
  },
  {
   "cell_type": "code",
   "execution_count": 10,
   "id": "e55c35ee",
   "metadata": {},
   "outputs": [
    {
     "name": "stdout",
     "output_type": "stream",
     "text": [
      "Amostra dos dados brutos:\n"
     ]
    },
    {
     "data": {
      "text/html": [
       "<div>\n",
       "<style scoped>\n",
       "    .dataframe tbody tr th:only-of-type {\n",
       "        vertical-align: middle;\n",
       "    }\n",
       "\n",
       "    .dataframe tbody tr th {\n",
       "        vertical-align: top;\n",
       "    }\n",
       "\n",
       "    .dataframe thead th {\n",
       "        text-align: right;\n",
       "    }\n",
       "</style>\n",
       "<table border=\"1\" class=\"dataframe\">\n",
       "  <thead>\n",
       "    <tr style=\"text-align: right;\">\n",
       "      <th></th>\n",
       "      <th>UF_ATENDIMENTO</th>\n",
       "      <th>TIPO</th>\n",
       "      <th>CLASSIFICACAO</th>\n",
       "      <th>NACIONALIDADE</th>\n",
       "      <th>TOTAL</th>\n",
       "    </tr>\n",
       "  </thead>\n",
       "  <tbody>\n",
       "    <tr>\n",
       "      <th>0</th>\n",
       "      <td>AC</td>\n",
       "      <td>ENTRADA</td>\n",
       "      <td>PERMANENTE</td>\n",
       "      <td>ALEMANHA</td>\n",
       "      <td>1</td>\n",
       "    </tr>\n",
       "    <tr>\n",
       "      <th>1</th>\n",
       "      <td>AC</td>\n",
       "      <td>ENTRADA</td>\n",
       "      <td>PERMANENTE</td>\n",
       "      <td>ARGENTINA</td>\n",
       "      <td>2</td>\n",
       "    </tr>\n",
       "    <tr>\n",
       "      <th>2</th>\n",
       "      <td>AC</td>\n",
       "      <td>ENTRADA</td>\n",
       "      <td>PERMANENTE</td>\n",
       "      <td>BOLÍVIA</td>\n",
       "      <td>21</td>\n",
       "    </tr>\n",
       "    <tr>\n",
       "      <th>3</th>\n",
       "      <td>AC</td>\n",
       "      <td>ENTRADA</td>\n",
       "      <td>PERMANENTE</td>\n",
       "      <td>COLÔMBIA</td>\n",
       "      <td>2</td>\n",
       "    </tr>\n",
       "    <tr>\n",
       "      <th>4</th>\n",
       "      <td>AC</td>\n",
       "      <td>ENTRADA</td>\n",
       "      <td>PERMANENTE</td>\n",
       "      <td>ESPANHA</td>\n",
       "      <td>1</td>\n",
       "    </tr>\n",
       "  </tbody>\n",
       "</table>\n",
       "</div>"
      ],
      "text/plain": [
       "  UF_ATENDIMENTO     TIPO CLASSIFICACAO NACIONALIDADE  TOTAL\n",
       "0             AC  ENTRADA    PERMANENTE      ALEMANHA      1\n",
       "1             AC  ENTRADA    PERMANENTE     ARGENTINA      2\n",
       "2             AC  ENTRADA    PERMANENTE       BOLÍVIA     21\n",
       "3             AC  ENTRADA    PERMANENTE      COLÔMBIA      2\n",
       "4             AC  ENTRADA    PERMANENTE       ESPANHA      1"
      ]
     },
     "execution_count": 10,
     "metadata": {},
     "output_type": "execute_result"
    }
   ],
   "source": [
    "# Exploração Inicial dos Dados (Código)\n",
    "# Exibe as 5 primeiras linhas para entender a estrutura\n",
    "print(\"Amostra dos dados brutos:\")\n",
    "df_bruto.head()"
   ]
  },
  {
   "cell_type": "code",
   "execution_count": 11,
   "id": "128a686a",
   "metadata": {},
   "outputs": [
    {
     "name": "stdout",
     "output_type": "stream",
     "text": [
      "Informações gerais do DataFrame:\n",
      "<class 'pandas.core.frame.DataFrame'>\n",
      "RangeIndex: 10873 entries, 0 to 10872\n",
      "Data columns (total 5 columns):\n",
      " #   Column          Non-Null Count  Dtype \n",
      "---  ------          --------------  ----- \n",
      " 0   UF_ATENDIMENTO  10873 non-null  object\n",
      " 1   TIPO            10873 non-null  object\n",
      " 2   CLASSIFICACAO   10873 non-null  object\n",
      " 3   NACIONALIDADE   10862 non-null  object\n",
      " 4   TOTAL           10873 non-null  int64 \n",
      "dtypes: int64(1), object(4)\n",
      "memory usage: 424.9+ KB\n"
     ]
    }
   ],
   "source": [
    "# Verificação de Informações (Código)\n",
    "# Exibe informações sobre as colunas, tipos de dados e valores nulos\n",
    "print(\"Informações gerais do DataFrame:\")\n",
    "df_bruto.info()"
   ]
  },
  {
   "cell_type": "code",
   "execution_count": 12,
   "id": "968a4f42",
   "metadata": {},
   "outputs": [
    {
     "name": "stdout",
     "output_type": "stream",
     "text": [
      "Iniciando o processo de limpeza...\n",
      "Coluna 'TOTAL' convertida para tipo numérico.\n",
      "0 linhas com valores inválidos na coluna 'TOTAL' foram removidas.\n",
      "Coluna 'TOTAL' convertida para tipo inteiro.\n",
      "\n",
      "Processo de limpeza concluído!\n"
     ]
    }
   ],
   "source": [
    "# Limpeza e Transformação dos Dados (Código)\n",
    "# Cria uma cópia do DataFrame para realizar as modificações\n",
    "df_limpo = df_bruto.copy()\n",
    "\n",
    "print(\"Iniciando o processo de limpeza...\")\n",
    "\n",
    "# 1. Converte a coluna 'TOTAL' para um tipo numérico.\n",
    "#    'coerce' transforma valores que não são números em 'NaT' (Not a Time), que podemos tratar como nulos.\n",
    "df_limpo['TOTAL'] = pd.to_numeric(df_limpo['TOTAL'], errors='coerce')\n",
    "print(\"Coluna 'TOTAL' convertida para tipo numérico.\")\n",
    "\n",
    "# 2. Remove linhas onde a coluna 'TOTAL' ficou nula após a conversão.\n",
    "#    Isso garante que só teremos valores numéricos válidos.\n",
    "linhas_antes = len(df_limpo)\n",
    "df_limpo.dropna(subset=['TOTAL'], inplace=True)\n",
    "linhas_depois = len(df_limpo)\n",
    "print(f\"{linhas_antes - linhas_depois} linhas com valores inválidos na coluna 'TOTAL' foram removidas.\")\n",
    "\n",
    "# 3. Converte a coluna 'TOTAL' para o tipo inteiro, para economizar memória e ser mais preciso.\n",
    "df_limpo['TOTAL'] = df_limpo['TOTAL'].astype(int)\n",
    "print(\"Coluna 'TOTAL' convertida para tipo inteiro.\")\n",
    "\n",
    "print(\"\\nProcesso de limpeza concluído!\")"
   ]
  },
  {
   "cell_type": "code",
   "execution_count": 13,
   "id": "aa412196",
   "metadata": {},
   "outputs": [
    {
     "name": "stdout",
     "output_type": "stream",
     "text": [
      "Informações do DataFrame após a limpeza:\n",
      "<class 'pandas.core.frame.DataFrame'>\n",
      "RangeIndex: 10873 entries, 0 to 10872\n",
      "Data columns (total 5 columns):\n",
      " #   Column          Non-Null Count  Dtype \n",
      "---  ------          --------------  ----- \n",
      " 0   UF_ATENDIMENTO  10873 non-null  object\n",
      " 1   TIPO            10873 non-null  object\n",
      " 2   CLASSIFICACAO   10873 non-null  object\n",
      " 3   NACIONALIDADE   10862 non-null  object\n",
      " 4   TOTAL           10873 non-null  int64 \n",
      "dtypes: int64(1), object(4)\n",
      "memory usage: 424.9+ KB\n",
      "\n",
      "Amostra dos dados limpos:\n"
     ]
    },
    {
     "data": {
      "text/html": [
       "<div>\n",
       "<style scoped>\n",
       "    .dataframe tbody tr th:only-of-type {\n",
       "        vertical-align: middle;\n",
       "    }\n",
       "\n",
       "    .dataframe tbody tr th {\n",
       "        vertical-align: top;\n",
       "    }\n",
       "\n",
       "    .dataframe thead th {\n",
       "        text-align: right;\n",
       "    }\n",
       "</style>\n",
       "<table border=\"1\" class=\"dataframe\">\n",
       "  <thead>\n",
       "    <tr style=\"text-align: right;\">\n",
       "      <th></th>\n",
       "      <th>UF_ATENDIMENTO</th>\n",
       "      <th>TIPO</th>\n",
       "      <th>CLASSIFICACAO</th>\n",
       "      <th>NACIONALIDADE</th>\n",
       "      <th>TOTAL</th>\n",
       "    </tr>\n",
       "  </thead>\n",
       "  <tbody>\n",
       "    <tr>\n",
       "      <th>0</th>\n",
       "      <td>AC</td>\n",
       "      <td>ENTRADA</td>\n",
       "      <td>PERMANENTE</td>\n",
       "      <td>ALEMANHA</td>\n",
       "      <td>1</td>\n",
       "    </tr>\n",
       "    <tr>\n",
       "      <th>1</th>\n",
       "      <td>AC</td>\n",
       "      <td>ENTRADA</td>\n",
       "      <td>PERMANENTE</td>\n",
       "      <td>ARGENTINA</td>\n",
       "      <td>2</td>\n",
       "    </tr>\n",
       "    <tr>\n",
       "      <th>2</th>\n",
       "      <td>AC</td>\n",
       "      <td>ENTRADA</td>\n",
       "      <td>PERMANENTE</td>\n",
       "      <td>BOLÍVIA</td>\n",
       "      <td>21</td>\n",
       "    </tr>\n",
       "    <tr>\n",
       "      <th>3</th>\n",
       "      <td>AC</td>\n",
       "      <td>ENTRADA</td>\n",
       "      <td>PERMANENTE</td>\n",
       "      <td>COLÔMBIA</td>\n",
       "      <td>2</td>\n",
       "    </tr>\n",
       "    <tr>\n",
       "      <th>4</th>\n",
       "      <td>AC</td>\n",
       "      <td>ENTRADA</td>\n",
       "      <td>PERMANENTE</td>\n",
       "      <td>ESPANHA</td>\n",
       "      <td>1</td>\n",
       "    </tr>\n",
       "  </tbody>\n",
       "</table>\n",
       "</div>"
      ],
      "text/plain": [
       "  UF_ATENDIMENTO     TIPO CLASSIFICACAO NACIONALIDADE  TOTAL\n",
       "0             AC  ENTRADA    PERMANENTE      ALEMANHA      1\n",
       "1             AC  ENTRADA    PERMANENTE     ARGENTINA      2\n",
       "2             AC  ENTRADA    PERMANENTE       BOLÍVIA     21\n",
       "3             AC  ENTRADA    PERMANENTE      COLÔMBIA      2\n",
       "4             AC  ENTRADA    PERMANENTE       ESPANHA      1"
      ]
     },
     "execution_count": 13,
     "metadata": {},
     "output_type": "execute_result"
    }
   ],
   "source": [
    "# Verificação Pós-Limpeza (Código)\n",
    "# Verifica as informações novamente para confirmar que as alterações foram aplicadas\n",
    "print(\"Informações do DataFrame após a limpeza:\")\n",
    "df_limpo.info()\n",
    "\n",
    "print(\"\\nAmostra dos dados limpos:\")\n",
    "df_limpo.head()"
   ]
  },
  {
   "cell_type": "code",
   "execution_count": 14,
   "id": "5c32b658",
   "metadata": {},
   "outputs": [
    {
     "name": "stdout",
     "output_type": "stream",
     "text": [
      "Pasta 'dados_processados' criada.\n",
      "\n",
      "Dados limpos salvos com sucesso em: 'dados_processados/movimento_migratorio_limpo.csv'\n"
     ]
    }
   ],
   "source": [
    "# Salvando os Dados Limpos (Código)\n",
    "# Cria a pasta 'dados_processados' se ela não existir\n",
    "if not os.path.exists('dados_processados'):\n",
    "    os.makedirs('dados_processados')\n",
    "    print(\"Pasta 'dados_processados' criada.\")\n",
    "\n",
    "# Define o caminho para o novo arquivo CSV limpo\n",
    "caminho_dados_limpos = 'dados_processados/movimento_migratorio_limpo.csv'\n",
    "\n",
    "# Salva o DataFrame limpo em um novo arquivo, sem o índice\n",
    "df_limpo.to_csv(caminho_dados_limpos, index=False)\n",
    "\n",
    "print(f\"\\nDados limpos salvos com sucesso em: '{caminho_dados_limpos}'\")"
   ]
  }
 ],
 "metadata": {
  "kernelspec": {
   "display_name": "Python 3",
   "language": "python",
   "name": "python3"
  },
  "language_info": {
   "codemirror_mode": {
    "name": "ipython",
    "version": 3
   },
   "file_extension": ".py",
   "mimetype": "text/x-python",
   "name": "python",
   "nbconvert_exporter": "python",
   "pygments_lexer": "ipython3",
   "version": "3.13.5"
  }
 },
 "nbformat": 4,
 "nbformat_minor": 5
}
