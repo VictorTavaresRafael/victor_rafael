{
 "cells": [
  {
   "cell_type": "markdown",
   "id": "1c920edd",
   "metadata": {},
   "source": [
    "## Exercícios: 15 até 19"
   ]
  },
  {
   "cell_type": "markdown",
   "id": "d847d23a",
   "metadata": {},
   "source": [
    "---"
   ]
  },
  {
   "cell_type": "markdown",
   "id": "198def31",
   "metadata": {},
   "source": [
    "Implemente duas classes, Pato e Pardal , que herdam de uma superclasse chamada Passaro as habilidades de voar e emitir som.\n",
    "\n",
    "\n",
    "\n",
    "Contudo, tanto Pato quanto Pardal devem emitir sons diferentes (de maneira escrita) no console, conforme o modelo a seguir.\n",
    "\n",
    "\n",
    "\n",
    "Imprima no console exatamente assim:\n",
    "\n",
    "Pato\n",
    "Voando...\n",
    "Pato emitindo som...\n",
    "Quack Quack\n",
    "Pardal\n",
    "Voando...\n",
    "Pardal emitindo som...\n",
    "Piu Piu"
   ]
  },
  {
   "cell_type": "code",
   "execution_count": 1,
   "id": "5050b81b",
   "metadata": {},
   "outputs": [
    {
     "name": "stdout",
     "output_type": "stream",
     "text": [
      "Pato\n",
      "Voando...\n",
      "Pato emitindo som...\n",
      "Quack Quack\n",
      "Pardal\n",
      "Voando...\n",
      "Pardal emitindo som...\n",
      "Piu Piu\n"
     ]
    }
   ],
   "source": [
    "class Passaro:\n",
    "    def voar(self):\n",
    "        print(\"Voando...\")\n",
    "\n",
    "    def emitir_som(self):\n",
    "        print(\"Emitindo som...\")\n",
    "\n",
    "class Pato(Passaro):\n",
    "    def emitir_som(self):\n",
    "        print(\"Pato emitindo som...\")\n",
    "        print(\"Quack Quack\")\n",
    "\n",
    "class Pardal(Passaro):\n",
    "    def emitir_som(self):\n",
    "        print(\"Pardal emitindo som...\")\n",
    "        print(\"Piu Piu\")\n",
    "\n",
    "# Testando as classes\n",
    "print(\"Pato\")\n",
    "pato = Pato()\n",
    "pato.voar()\n",
    "pato.emitir_som()\n",
    "\n",
    "print(\"Pardal\")\n",
    "pardal = Pardal()\n",
    "pardal.voar()\n",
    "pardal.emitir_som()"
   ]
  },
  {
   "cell_type": "markdown",
   "id": "a69a308c",
   "metadata": {},
   "source": [
    "Crie uma classe chamada Pessoa, com um atributo privado chamado nome (declarado internamente na classe como __nome) e um atributo público de nome id.\n",
    "\n",
    "Adicione dois métodos à classe, sendo um para definir o valor de __nome e outro para retornar o valor do respectivo atributo.\n",
    "\n",
    "Lembre-se que o acesso ao atributo privado deve ocorrer somente através dos métodos definidos, nunca diretamente.  Você pode alcançar este comportamento através do recurso de properties do Python.\n",
    "\n",
    "\n",
    "\n",
    "Veja um exemplo de como seu atributo privado pode ser lido e escrito:\n",
    "\n",
    "\n",
    "\n",
    "pessoa = Pessoa(0) \n",
    "pessoa.nome = 'Fulano De Tal'\n",
    "print(pessoa.nome)"
   ]
  },
  {
   "cell_type": "code",
   "execution_count": 2,
   "id": "01d44931",
   "metadata": {},
   "outputs": [
    {
     "name": "stdout",
     "output_type": "stream",
     "text": [
      "Fulano De Tal\n"
     ]
    }
   ],
   "source": [
    "class Pessoa:\n",
    "    def __init__(self, id):  # <- aqui está a correção!\n",
    "        self.id = id\n",
    "        self.__nome = None\n",
    "\n",
    "    @property\n",
    "    def nome(self):\n",
    "        return self.__nome\n",
    "\n",
    "    @nome.setter\n",
    "    def nome(self, novo_nome):\n",
    "        self.__nome = novo_nome\n",
    "\n",
    "# Teste\n",
    "pessoa = Pessoa(0)\n",
    "pessoa.nome = 'Fulano De Tal'\n",
    "print(pessoa.nome)\n"
   ]
  },
  {
   "cell_type": "markdown",
   "id": "a5a49e07",
   "metadata": {},
   "source": [
    "Crie uma classe  Calculo  que contenha um método que aceita dois parâmetros, X e Y, e retorne a soma dos dois. Nessa mesma classe, implemente um método de subtração, que aceita dois parâmetros, X e Y, e retorne a subtração dos dois (resultados negativos são permitidos).\n",
    "\n",
    "\n",
    "\n",
    "Utilize os valores abaixo para testar seu exercício:\n",
    "\n",
    "x = 4 \n",
    "y = 5\n",
    "imprima:\n",
    "\n",
    "Somando: 4+5 = 9\n",
    "Subtraindo: 4-5 = -1"
   ]
  },
  {
   "cell_type": "code",
   "execution_count": 3,
   "id": "f9b8b148",
   "metadata": {},
   "outputs": [
    {
     "name": "stdout",
     "output_type": "stream",
     "text": [
      "Somando: 4+5 = 9\n",
      "Subtraindo: 4-5 = -1\n"
     ]
    }
   ],
   "source": [
    "class Calculo:\n",
    "    def somar(self, x, y):\n",
    "        return x + y\n",
    "\n",
    "    def subtrair(self, x, y):\n",
    "        return x - y\n",
    "\n",
    "x = 4\n",
    "y = 5\n",
    "\n",
    "calc = Calculo()\n",
    "print(f\"Somando: {x}+{y} = {calc.somar(x, y)}\")\n",
    "print(f\"Subtraindo: {x}-{y} = {calc.subtrair(x, y)}\")"
   ]
  },
  {
   "cell_type": "markdown",
   "id": "3a67fe7d",
   "metadata": {},
   "source": [
    "Crie uma classe Ordenadora que contenha um atributo listaBaguncada e que contenha os métodos ordenacaoCrescente e ordenacaoDecrescente.\n",
    "\n",
    "Instancie um objeto chamado crescente dessa classe Ordenadora que tenha como listaBaguncada a lista [3,4,2,1,5] e instancie um outro objeto, decrescente dessa mesma classe com uma outra listaBaguncada sendo [9,7,6,8].\n",
    "\n",
    "Para o primeiro objeto citado, use o método ordenacaoCrescente e para o segundo objeto, use o método ordenacaoDecrescente.\n",
    "\n",
    "\n",
    "\n",
    "Imprima o resultado da ordenação crescente e da ordenação decresce\n",
    "\n",
    "[1, 2, 3, 4, 5] \n",
    "[9, 8, 7, 6]"
   ]
  },
  {
   "cell_type": "code",
   "execution_count": 4,
   "id": "79ab7d30",
   "metadata": {},
   "outputs": [
    {
     "name": "stdout",
     "output_type": "stream",
     "text": [
      "[1, 2, 3, 4, 5]\n",
      "[9, 8, 7, 6]\n"
     ]
    }
   ],
   "source": [
    "class Ordenadora:\n",
    "    def __init__(self, lista):  # CORREÇÃO AQUI\n",
    "        self.listaBaguncada = lista\n",
    "\n",
    "    def ordenacaoCrescente(self):\n",
    "        return sorted(self.listaBaguncada)\n",
    "\n",
    "    def ordenacaoDecrescente(self):\n",
    "        return sorted(self.listaBaguncada, reverse=True)\n",
    "\n",
    "# Testes\n",
    "crescente = Ordenadora([3, 4, 2, 1, 5])\n",
    "decrescente = Ordenadora([9, 7, 6, 8])\n",
    "\n",
    "print(crescente.ordenacaoCrescente())      # [1, 2, 3, 4, 5]\n",
    "print(decrescente.ordenacaoDecrescente())  # [9, 8, 7, 6]\n"
   ]
  },
  {
   "cell_type": "markdown",
   "id": "167782fc",
   "metadata": {},
   "source": [
    "Crie uma classe Avião que possua os atributos modelo, velocidade_maxima, cor e capacidade.\n",
    "\n",
    "Defina o atributo cor de sua classe , de maneira que todas as instâncias de sua classe avião sejam da cor “azul”.\n",
    "\n",
    "Após isso, a partir de entradas abaixo, instancie e armazene em uma lista 3 objetos da classe Avião.\n",
    "\n",
    "Ao final, itere pela lista imprimindo cada um dos objetos no seguinte formato:\n",
    "\n",
    "“O avião de modelo “x” possui uma velocidade máxima de “y”, capacidade para “z” passageiros e é da cor “w”.\n",
    "\n",
    "Sendo x, y, z e w cada um dos atributos da classe “Avião”.\n",
    "\n",
    "\n",
    "\n",
    "Valores de entrada:\n",
    "\n",
    "modelo BOIENG456: velocidade máxima 1500 km/h: capacidade para 400 passageiros: Cor Azul\n",
    "\n",
    "modelo Embraer Praetor 600: velocidade máxima 863km/h: capacidade para 14 passageiros: Cor Azul\n",
    "\n",
    "modelo Antonov An-2: velocidade máxima de 258 Km/h: capacidade para 12 passageiros: Cor Azul"
   ]
  },
  {
   "cell_type": "code",
   "execution_count": 5,
   "id": "55f1d93f",
   "metadata": {},
   "outputs": [
    {
     "name": "stdout",
     "output_type": "stream",
     "text": [
      "O avião de modelo \"BOIENG456\" possui uma velocidade máxima de \"1500 km/h\", capacidade para \"400\" passageiros e é da cor \"Azul\".\n",
      "O avião de modelo \"Embraer Praetor 600\" possui uma velocidade máxima de \"863 km/h\", capacidade para \"14\" passageiros e é da cor \"Azul\".\n",
      "O avião de modelo \"Antonov An-2\" possui uma velocidade máxima de \"258 km/h\", capacidade para \"12\" passageiros e é da cor \"Azul\".\n"
     ]
    }
   ],
   "source": [
    "class Aviao:\n",
    "    def __init__(self, modelo, velocidade_maxima, capacidade):\n",
    "        self.modelo = modelo\n",
    "        self.velocidade_maxima = velocidade_maxima\n",
    "        self.capacidade = capacidade\n",
    "        self.cor = \"Azul\"\n",
    "\n",
    "aviao1 = Aviao(\"BOIENG456\", \"1500 km/h\", 400)\n",
    "aviao2 = Aviao(\"Embraer Praetor 600\", \"863 km/h\", 14)\n",
    "aviao3 = Aviao(\"Antonov An-2\", \"258 km/h\", 12)\n",
    "\n",
    "avioes = [aviao1, aviao2, aviao3]\n",
    "\n",
    "for aviao in avioes:\n",
    "    print(f'O avião de modelo \"{aviao.modelo}\" possui uma velocidade máxima de \"{aviao.velocidade_maxima}\", capacidade para \"{aviao.capacidade}\" passageiros e é da cor \"{aviao.cor}\".')"
   ]
  }
 ],
 "metadata": {
  "kernelspec": {
   "display_name": "Python 3",
   "language": "python",
   "name": "python3"
  },
  "language_info": {
   "codemirror_mode": {
    "name": "ipython",
    "version": 3
   },
   "file_extension": ".py",
   "mimetype": "text/x-python",
   "name": "python",
   "nbconvert_exporter": "python",
   "pygments_lexer": "ipython3",
   "version": "3.13.3"
  }
 },
 "nbformat": 4,
 "nbformat_minor": 5
}
