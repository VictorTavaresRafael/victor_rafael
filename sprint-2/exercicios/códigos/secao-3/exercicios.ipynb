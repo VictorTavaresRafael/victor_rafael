{
 "cells": [
  {
   "cell_type": "markdown",
   "id": "e5cda93c",
   "metadata": {},
   "source": [
    "## Exercícios: 01 até 14"
   ]
  },
  {
   "cell_type": "markdown",
   "id": "16f5749b",
   "metadata": {},
   "source": [
    "---\n",
    "Dada a seguinte lista:\n",
    "a = [1, 4, 9, 16, 25, 36, 49, 64, 81, 100]\n",
    "\n",
    "Faça um programa que gere uma nova lista contendo apenas números ímpares."
   ]
  },
  {
   "cell_type": "code",
   "execution_count": 1,
   "id": "4e95833f",
   "metadata": {},
   "outputs": [
    {
     "name": "stdout",
     "output_type": "stream",
     "text": [
      "[1, 9, 25, 49, 81]\n"
     ]
    }
   ],
   "source": [
    "a = [1, 4, 9, 16, 25, 36, 49, 64, 81, 100]\n",
    "\n",
    "# Filtrando apenas os números ímpares\n",
    "impares = [num for num in a if num % 2 != 0]\n",
    "\n",
    "print(impares)"
   ]
  },
  {
   "cell_type": "markdown",
   "id": "fc4f198c",
   "metadata": {},
   "source": [
    "Verifique se cada uma das palavras da lista ['maça', 'arara', 'audio', 'radio', 'radar', 'moto'] é ou não um palíndromo.\n",
    "\n",
    "Obs: Palíndromo é uma palavra que permanece igual se lida de traz pra frente.\n",
    "\n",
    "\n",
    "\n",
    "É necessário que você imprima no console exatamente assim:\n",
    "\n",
    "\n",
    "\n",
    "A palavra: maça não é um palíndromo\n",
    " \n",
    "A palavra: arara é um palíndromo\n",
    " \n",
    "A palavra: audio não é um palíndromo\n",
    " \n",
    "A palavra: radio não é um palíndromo\n",
    " \n",
    "A palavra: radar é um palíndromo\n",
    " \n",
    "A palavra: moto não é um palíndromo"
   ]
  },
  {
   "cell_type": "code",
   "execution_count": 2,
   "id": "9faa7b1f",
   "metadata": {},
   "outputs": [
    {
     "name": "stdout",
     "output_type": "stream",
     "text": [
      "A palavra: maça não é um palíndromo\n",
      "A palavra: arara é um palíndromo\n",
      "A palavra: audio não é um palíndromo\n",
      "A palavra: radio não é um palíndromo\n",
      "A palavra: radar é um palíndromo\n",
      "A palavra: moto não é um palíndromo\n"
     ]
    }
   ],
   "source": [
    "palavras = ['maça', 'arara', 'audio', 'radio', 'radar', 'moto']\n",
    "\n",
    "for palavra in palavras:\n",
    "    if palavra == palavra[::-1]:\n",
    "        print(f\"A palavra: {palavra} é um palíndromo\", end=\"\\n\")\n",
    "    else:\n",
    "        print(f\"A palavra: {palavra} não é um palíndromo\", end=\"\\n\")"
   ]
  },
  {
   "cell_type": "markdown",
   "id": "95527497",
   "metadata": {},
   "source": [
    "Dada as listas a seguir:\n",
    "\n",
    "\n",
    "\n",
    "primeirosNomes = ['Joao', 'Douglas', 'Lucas', 'José']\n",
    "sobreNomes = ['Soares', 'Souza', 'Silveira', 'Pedreira']\n",
    "idades = [19, 28, 25, 31]\n",
    "\n",
    "\n",
    "Faça um programa que imprima o dados na seguinte estrutura: \"índice - primeiroNome sobreNome está com idade anos\"."
   ]
  },
  {
   "cell_type": "code",
   "execution_count": 3,
   "id": "b466aaa5",
   "metadata": {},
   "outputs": [
    {
     "name": "stdout",
     "output_type": "stream",
     "text": [
      "0 - Joao Soares está com 19 anos\n",
      "1 - Douglas Souza está com 28 anos\n",
      "2 - Lucas Silveira está com 25 anos\n",
      "3 - José Pedreira está com 31 anos\n"
     ]
    }
   ],
   "source": [
    "primeirosNomes = ['Joao', 'Douglas', 'Lucas', 'José']\n",
    "sobreNomes = ['Soares', 'Souza', 'Silveira', 'Pedreira']\n",
    "idades = [19, 28, 25, 31]\n",
    "\n",
    "for i, primeiroNome in enumerate(primeirosNomes):\n",
    "    print(f\"{i} - {primeiroNome} {sobreNomes[i]} está com {idades[i]} anos\")"
   ]
  },
  {
   "cell_type": "markdown",
   "id": "ffc47404",
   "metadata": {},
   "source": [
    "Escreva uma função que recebe uma lista e retorna uma nova lista sem elementos duplicados. Utilize a lista a seguir para testar sua função.\n",
    "\n",
    "\n",
    "\n",
    "['abc', 'abc', 'abc', '123', 'abc', '123', '123']"
   ]
  },
  {
   "cell_type": "code",
   "execution_count": null,
   "id": "a80f09de",
   "metadata": {},
   "outputs": [
    {
     "name": "stdout",
     "output_type": "stream",
     "text": [
      "['abc', '123']\n"
     ]
    }
   ],
   "source": [
    "def remover_duplicatas(lista):\n",
    "    return list(set(lista))\n",
    "\n",
    "\n",
    "teste = ['abc', 'abc', 'abc', '123', 'abc', '123', '123']\n",
    "result = remover_duplicatas(teste)\n",
    "print(result)"
   ]
  },
  {
   "cell_type": "markdown",
   "id": "0c47442e",
   "metadata": {},
   "source": [
    "Leia o arquivo person.json, faça o parsing e imprima seu conteúdo."
   ]
  },
  {
   "cell_type": "code",
   "execution_count": null,
   "id": "941faa73",
   "metadata": {},
   "outputs": [],
   "source": [
    "import json\n",
    "\n",
    "with open('person.json', 'r', encoding='utf-8') as arquivo:\n",
    "    dados = json.load(arquivo)\n",
    "\n",
    "print(dados)"
   ]
  },
  {
   "cell_type": "markdown",
   "id": "28ca2b43",
   "metadata": {},
   "source": [
    "Implemente a função my_map(list, f) que recebe uma lista como primeiro argumento e uma função como segundo argumento. Esta função aplica a função recebida para cada elemento da lista recebida e retorna o resultado em uma nova lista.\n",
    "\n",
    "\n",
    "\n",
    "Teste sua função com a lista de entrada [1, 2, 3, 4, 5, 6, 7, 8, 9, 10] e com uma função que potência de 2 para cada elemento."
   ]
  },
  {
   "cell_type": "code",
   "execution_count": null,
   "id": "8530f264",
   "metadata": {},
   "outputs": [
    {
     "name": "stdout",
     "output_type": "stream",
     "text": [
      "[1, 4, 9, 16, 25, 36, 49, 64, 81, 100]\n"
     ]
    }
   ],
   "source": [
    "def my_map(lista, f):\n",
    "    nova_lista = []\n",
    "    for item in lista:\n",
    "        nova_lista.append(f(item))\n",
    "    return nova_lista\n",
    "    \n",
    "    \n",
    "def carioca(x):\n",
    "    x = x ** 2\n",
    "    return x\n",
    "\n",
    "entrada = [1, 2, 3, 4, 5, 6, 7, 8, 9, 10]\n",
    "\n",
    "result = my_map(entrada, carioca)\n",
    "\n",
    "print(result)"
   ]
  },
  {
   "cell_type": "markdown",
   "id": "efa0bece",
   "metadata": {},
   "source": [
    "Escreva um programa que lê o conteúdo do arquivo texto arquivo_texto.txt e imprime o seu conteúdo."
   ]
  },
  {
   "cell_type": "code",
   "execution_count": null,
   "id": "87e1a1ae",
   "metadata": {},
   "outputs": [],
   "source": [
    "with open('arquivo_texto.txt', 'r', encoding='utf-8') as arquivo:\n",
    "    for linha in arquivo:\n",
    "        print(linha, end='')"
   ]
  },
  {
   "cell_type": "markdown",
   "id": "388fbc1a",
   "metadata": {},
   "source": [
    "Escreva uma função que recebe um número variável de parâmetros não nomeados e um número variado de parâmetros nomeados e imprime o valor de cada parâmetro recebido.\n",
    "\n",
    "\n",
    "\n",
    "Teste sua função com os seguintes parâmetros:\n",
    "\n",
    "\n",
    "\n",
    "(1, 3, 4, 'hello', parametro_nomeado='alguma coisa', x=20)"
   ]
  },
  {
   "cell_type": "code",
   "execution_count": 2,
   "id": "37b05032",
   "metadata": {},
   "outputs": [
    {
     "name": "stdout",
     "output_type": "stream",
     "text": [
      "1\n",
      "3\n",
      "4\n",
      "hello\n",
      "alguma coisa\n",
      "20\n"
     ]
    }
   ],
   "source": [
    "def imprime_parametros(*args, **kwargs):\n",
    "    for arg in args:\n",
    "        print(arg)\n",
    "    for valor in kwargs.values():\n",
    "        print(valor)\n",
    "\n",
    "imprime_parametros(1, 3, 4, 'hello', parametro_nomeado='alguma coisa', x=20)"
   ]
  },
  {
   "cell_type": "markdown",
   "id": "cf7da443",
   "metadata": {},
   "source": [
    "Implemente a classe Lampada. A classe Lâmpada recebe um booleano no seu construtor, Truese a lâmpada estiver ligada, False caso esteja desligada. A classe Lampada possuí os seguintes métodos:\n",
    "\n",
    "liga(): muda o estado da lâmpada para ligada\n",
    "\n",
    "desliga(): muda o estado da lâmpada para desligada\n",
    "\n",
    "esta_ligada(): retorna verdadeiro se a lâmpada estiver ligada, falso caso contrário\n",
    "\n",
    "Para testar sua classe:\n",
    "\n",
    "Ligue a Lampada\n",
    "\n",
    "Imprima: A lâmpada está ligada? True\n",
    "\n",
    "Desligue a Lampada\n",
    "\n",
    "Imprima: A lâmpada ainda está ligada? False"
   ]
  },
  {
   "cell_type": "code",
   "execution_count": 3,
   "id": "266ff4fc",
   "metadata": {},
   "outputs": [
    {
     "name": "stdout",
     "output_type": "stream",
     "text": [
      "A lâmpada está ligada? True\n",
      "A lâmpada ainda está ligada? False\n"
     ]
    }
   ],
   "source": [
    "class Lampada:\n",
    "    def __init__(self, ligada: bool):\n",
    "        self.ligada = ligada\n",
    "\n",
    "    def liga(self):\n",
    "        self.ligada = True\n",
    "\n",
    "    def desliga(self):\n",
    "        self.ligada = False\n",
    "\n",
    "    def esta_ligada(self):\n",
    "        return self.ligada\n",
    "\n",
    "# Testando a classe Lampada\n",
    "lampada = Lampada(False)  # Inicialmente desligada\n",
    "\n",
    "lampada.liga()\n",
    "print(\"A lâmpada está ligada?\", lampada.esta_ligada())  # Deve imprimir: True\n",
    "\n",
    "lampada.desliga()\n",
    "print(\"A lâmpada ainda está ligada?\", lampada.esta_ligada())  # Deve imprimir: False\n"
   ]
  },
  {
   "cell_type": "markdown",
   "id": "897841c9",
   "metadata": {},
   "source": [
    "Escreva uma função que recebe uma string de números separados por vírgula e retorne a soma de todos eles. Depois imprima a soma dos valores.\n",
    "\n",
    "\n",
    "\n",
    "A string deve ter valor  \"1,3,4,6,10,76\""
   ]
  },
  {
   "cell_type": "code",
   "execution_count": null,
   "id": "f1bd91ae",
   "metadata": {},
   "outputs": [
    {
     "name": "stdout",
     "output_type": "stream",
     "text": [
      "100\n"
     ]
    }
   ],
   "source": [
    "def soma_numeros_em_string(s):\n",
    "    num = s.split(',')\n",
    "    num_int = [int(num) for num in num]\n",
    "    return sum(num_int)\n",
    "\n",
    "entrada = \"1,3,4,6,10,76\"\n",
    "resultado = soma_numeros_em_string(entrada)\n",
    "print(resultado)"
   ]
  },
  {
   "cell_type": "markdown",
   "id": "a89aeb20",
   "metadata": {},
   "source": [
    "Escreva uma função que recebe como parâmetro uma lista e retorna 3 listas: a lista recebida dividida em 3 partes iguais. Teste sua implementação com a lista abaixo\n",
    "\n",
    "\n",
    "\n",
    "lista = [1, 2, 3, 4, 5, 6, 7, 8, 9, 10, 11, 12]"
   ]
  },
  {
   "cell_type": "code",
   "execution_count": 7,
   "id": "b5495f4b",
   "metadata": {},
   "outputs": [
    {
     "name": "stdout",
     "output_type": "stream",
     "text": [
      "[1, 2, 3, 4] [5, 6, 7, 8] [9, 10, 11, 12]\n"
     ]
    }
   ],
   "source": [
    "def divide(lista):\n",
    "    tamanho = len(lista) // 3\n",
    "    p1 = lista[:tamanho]\n",
    "    p2 = lista[tamanho:2*tamanho]\n",
    "    p3 = lista[2*tamanho:]\n",
    "    return p1, p2, p3\n",
    "\n",
    "lista = [1, 2, 3, 4, 5, 6, 7, 8, 9, 10, 11, 12]\n",
    "p1, p2, p3 = divide(lista)\n",
    "\n",
    "print(f\"{p1} {p2} {p3}\")"
   ]
  },
  {
   "cell_type": "markdown",
   "id": "5f2c8a94",
   "metadata": {},
   "source": [
    "Dado o dicionário a seguir:\n",
    "\n",
    "speed = {'jan':47, 'feb':52, 'march':47, 'April':44, 'May':52, 'June':53, 'july':54, 'Aug':44, 'Sept':54}\n",
    "\n",
    "Crie uma lista com todos os valores (não as chaves!) e coloque numa lista de forma que não haja valores duplicados."
   ]
  },
  {
   "cell_type": "code",
   "execution_count": 9,
   "id": "f3b05d2f",
   "metadata": {},
   "outputs": [
    {
     "name": "stdout",
     "output_type": "stream",
     "text": [
      "[44, 47, 52, 53, 54]\n"
     ]
    }
   ],
   "source": [
    "speed = {\n",
    "    'jan': 47, 'feb': 52, 'march': 47, 'April': 44,\n",
    "    'May': 52, 'June': 53, 'july': 54, 'Aug': 44, 'Sept': 54\n",
    "}\n",
    "\n",
    "single_value = list(set(speed.values()))\n",
    "print(single_value)"
   ]
  },
  {
   "cell_type": "markdown",
   "id": "d8b0441d",
   "metadata": {},
   "source": [
    "Calcule o valor mínimo, valor máximo, valor médio e a mediana da lista gerada na célula abaixo:\n",
    "\n",
    "\n",
    "\n",
    "Obs.: Lembrem-se, para calcular a mediana a lista deve estar ordenada!\n",
    "\n",
    "\n",
    "\n",
    "import random \n",
    " amostra aleatoriamente 50 números do intervalo 0...500\n",
    "random_list = random.sample(range(500),50)\n",
    "\n",
    "\n",
    "Use as variáveis abaixo para representar cada operação matemática:\n",
    "\n",
    "\n",
    "\n",
    "mediana\n",
    "media\n",
    "valor_minimo \n",
    "valor_maximo \n",
    "\n",
    "\n",
    "Importante: Esperamos que você utilize as funções abaixo em seu código:\n",
    "\n",
    "\n",
    "\n",
    "random\n",
    "\n",
    "max\n",
    "\n",
    "min\n",
    "\n",
    "sum"
   ]
  },
  {
   "cell_type": "code",
   "execution_count": 11,
   "id": "9370c7f0",
   "metadata": {},
   "outputs": [
    {
     "name": "stdout",
     "output_type": "stream",
     "text": [
      "Media: 252.38, Mediana: 244.5, Mínimo: 1, Máximo: 497\n"
     ]
    }
   ],
   "source": [
    "import random\n",
    "\n",
    "random_list = random.sample(range(500), 50)\n",
    "\n",
    "ordered_list = sorted(random_list)\n",
    "\n",
    "valor_minimo = min(random_list)\n",
    "valor_maximo = max(random_list)\n",
    "media = sum(random_list) / len(random_list)\n",
    "\n",
    "mid = len(ordered_list) // 2\n",
    "if len(ordered_list) % 2 == 0:\n",
    "    mediana = (ordered_list[mid - 1] + ordered_list[mid]) / 2\n",
    "else:\n",
    "    mediana = ordered_list[mid]\n",
    "\n",
    "print(f\"Media: {media}, Mediana: {mediana}, Mínimo: {valor_minimo}, Máximo: {valor_maximo}\")"
   ]
  },
  {
   "cell_type": "markdown",
   "id": "b89368aa",
   "metadata": {},
   "source": [
    "Imprima a lista abaixo de trás para frente.\n",
    "\n",
    "a = [1, 0, 2, 3, 5, 8, 13, 21, 34, 55, 89]"
   ]
  },
  {
   "cell_type": "code",
   "execution_count": 12,
   "id": "05366c3c",
   "metadata": {},
   "outputs": [
    {
     "name": "stdout",
     "output_type": "stream",
     "text": [
      "[89, 55, 34, 21, 13, 8, 5, 3, 2, 0, 1]\n"
     ]
    }
   ],
   "source": [
    "a = [1, 0, 2, 3, 5, 8, 13, 21, 34, 55, 89]\n",
    "print(a[::-1])"
   ]
  }
 ],
 "metadata": {
  "kernelspec": {
   "display_name": "Python 3",
   "language": "python",
   "name": "python3"
  },
  "language_info": {
   "codemirror_mode": {
    "name": "ipython",
    "version": 3
   },
   "file_extension": ".py",
   "mimetype": "text/x-python",
   "name": "python",
   "nbconvert_exporter": "python",
   "pygments_lexer": "ipython3",
   "version": "3.13.3"
  }
 },
 "nbformat": 4,
 "nbformat_minor": 5
}
